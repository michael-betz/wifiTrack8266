{
 "cells": [
  {
   "cell_type": "code",
   "execution_count": 1,
   "metadata": {},
   "outputs": [],
   "source": [
    "from random import randint\n",
    "from math import ceil\n",
    "from Crypto.Cipher import AES\n",
    "CODING_TABLE = \"ABCDEFGHIJKLMNOPQRSTUVWXYZ234567\".lower()\n",
    "SECRET_KEY = b'Sixteen byte key'\n",
    "IV_128 = b'0123456789ABCDEF'"
   ]
  },
  {
   "cell_type": "markdown",
   "metadata": {},
   "source": [
    "# Max. DNS length"
   ]
  },
  {
   "cell_type": "markdown",
   "metadata": {},
   "source": [
    "    DNS maximium length of label = 63 chars\n",
    "    DNS maximum length of whole string = 253 chars\n",
    "    253 - .dnsr.uk.to (11) = 242 chars\n",
    "    (63 + .) * 3 + 50 = 242 chars\n",
    "    encoding 63 * 3 + 50 = 239 useful chars\n",
    "    \n",
    "__Maximum length request (239 chars) tested working is below__"
   ]
  },
  {
   "cell_type": "code",
   "execution_count": 38,
   "metadata": {},
   "outputs": [
    {
     "name": "stdout",
     "output_type": "stream",
     "text": [
      "253\n",
      "ryjznzmpnexedpcnxnicuni4gf6bcpcy235kovmg4xca2qfakl.rqpaqhigl553n5rhjhuvmsixwzohwjzgnjxqota22cupqjnrsuhmybxapgz5mgp.cazd4szpsaltbvjrluzuejawvvfo44l2eszmzswievw4aboasynxtjc2o62e3gs.mtenhctf4t5b2axpyr34opfkfski3ezeim5rjw4w6ujurcw4e6v5olt2vk5pbuk.dnsr.uk.to\n"
     ]
    }
   ],
   "source": [
    "s = ''\n",
    "for i in range(50):\n",
    "    s += CODING_TABLE[randint(0, len(CODING_TABLE) - 2)]\n",
    "s += '.'\n",
    "for j in range(3):\n",
    "    for i in range(63):\n",
    "        s += CODING_TABLE[randint(0, len(CODING_TABLE) - 2)]\n",
    "    s += '.'\n",
    "s += 'dnsr.uk.to'\n",
    "print(len(s))\n",
    "print(s)"
   ]
  },
  {
   "cell_type": "markdown",
   "metadata": {},
   "source": [
    "base32 encodes 5 bit into 1 char, so we have 239 * 5 bits payload = 1195 bits = __149 bytes max__\n",
    "\n",
    "from which we take 3 bytes for CRC + len\n",
    "\n",
    "__146 byetes user payload__"
   ]
  },
  {
   "cell_type": "markdown",
   "metadata": {},
   "source": [
    "# Encode / decode base32 "
   ]
  },
  {
   "cell_type": "code",
   "execution_count": 2,
   "metadata": {},
   "outputs": [
    {
     "name": "stdout",
     "output_type": "stream",
     "text": [
      "bqagqajidcrked5i7p4ba\n",
      "b'\\x01\\x02\\x03ABCDEFG\\xff\\xf1\\x00\\x00'\n"
     ]
    }
   ],
   "source": [
    "# for B32\n",
    "DECODING_TABLE = {}\n",
    "for i,c in enumerate(CODING_TABLE.lower()):\n",
    "    DECODING_TABLE[c] = i\n",
    "\n",
    "def enc_b32(pl):\n",
    "    chars = ''\n",
    "    res = int.from_bytes(pl, 'little')\n",
    "    nBits = len(pl) * 8\n",
    "    while nBits > 0:\n",
    "        chars += CODING_TABLE[res & 0x1F]\n",
    "        res >>= 5\n",
    "        nBits -= 5\n",
    "    return chars\n",
    "\n",
    "def dec_b32(chars):\n",
    "    res = 0\n",
    "    for i, c in enumerate(chars.lower()):\n",
    "        res |= DECODING_TABLE[c] << (i * 5)\n",
    "    return res.to_bytes(ceil(len(chars) * 5 / 8), 'little')\n",
    "\n",
    "c = enc_b32(b'\\x01\\x02\\x03ABCDEFG\\xFF\\xF1\\x00')\n",
    "print(c)\n",
    "print(dec_b32(c))"
   ]
  },
  {
   "cell_type": "markdown",
   "metadata": {},
   "source": [
    "# CRC16"
   ]
  },
  {
   "cell_type": "code",
   "execution_count": 3,
   "metadata": {},
   "outputs": [],
   "source": [
    "class Crc16:    \n",
    "    def __init__(self):\n",
    "        ''' Modbbus compatible '''\n",
    "        self._resetRunnningCRC()\n",
    "        \n",
    "    def _resetRunnningCRC(self):\n",
    "        self.c = 0xFFFF\n",
    "        \n",
    "    def _runningCRC(self, inputByte):\n",
    "        self.c ^= inputByte\n",
    "        self.c &= 0xFFFF\n",
    "        for b in range(8):  # For each bit in the byte\n",
    "            if self.c & 1:\n",
    "                self.c = (self.c >> 1) ^ 0xA001\n",
    "            else: \n",
    "                self.c = (self.c >> 1)\n",
    "            self.c &= 0xFFFF\n",
    "            \n",
    "    def getCrc( self, dataBytes ):\n",
    "        self._resetRunnningCRC()\n",
    "        for b in dataBytes:\n",
    "            self._runningCRC( b )\n",
    "        return self.c.to_bytes(2, 'big')\n",
    "\n",
    "crc = Crc16()"
   ]
  },
  {
   "cell_type": "markdown",
   "metadata": {},
   "source": [
    "# Encrypt"
   ]
  },
  {
   "cell_type": "code",
   "execution_count": 4,
   "metadata": {},
   "outputs": [],
   "source": [
    "def hprint(bs):\n",
    "    print()\n",
    "    for b in bs:\n",
    "        print('{:02x}'.format(b), end=' ')\n",
    "    print()"
   ]
  },
  {
   "cell_type": "code",
   "execution_count": 42,
   "metadata": {},
   "outputs": [
    {
     "name": "stdout",
     "output_type": "stream",
     "text": [
      "\n",
      "11 00 db e2 a7 1d 43 ef 27 ea eb bb eb a6 a5 3f \n",
      "raawnr7u5yq66ti5l7oxotwu7b\n",
      "\n",
      "6e d4 ec 9a bc 37 1b 14 e9 8b d8 d8 a2 01 be 94 \n",
      "odvzonsxxzgiruprygwf2ayxue\n",
      "\n",
      "fc d4 dd 8f 69 9c 13 82 3a fe a4 f3 83 e5 f7 5c \n",
      "4hv35hgn44eei5y7e54hys764c\n",
      "\n",
      "e2 b9 c0 e1 e0 78 12 7e b2 7e 69 6e 6a 13 f2 5b \n",
      "cpob4qd4yte4hz2pjt3uwji63c\n"
     ]
    }
   ],
   "source": [
    "from Crypto.Cipher import AES\n",
    "from Crypto import Random\n",
    "\n",
    "# IV_128 = Random.new().read(AES.block_size)\n",
    "\n",
    "cipher = AES.new(SECRET_KEY, AES.MODE_CBC, IV_128)\n",
    "cipherd = AES.new(SECRET_KEY, AES.MODE_CBC, Random.new().read(AES.block_size))\n",
    "\n",
    "def dns_enc(pl):\n",
    "    # Add CRC16 fields\n",
    "    pl = bytes(pl) + crc.getCrc(pl)\n",
    "    \n",
    "    # Pad pl to mod. 16 bytes\n",
    "    n_pad = 16 - (len(pl) % 16)\n",
    "    pl += bytes([n_pad] * n_pad)\n",
    "    \n",
    "    # AES encrypt\n",
    "    msg = cipher.encrypt(pl)\n",
    "    hprint(msg)\n",
    "    \n",
    "    # base32 encode and add some . every 63 characters\n",
    "    msg32 = enc_b32(msg)\n",
    "    LBL_LEN = 63\n",
    "    msg32 = '.'.join([msg32[i: i + LBL_LEN] for i in range(0, len(msg32), LBL_LEN)])\n",
    "    return msg32\n",
    "\n",
    "def dns_dec(msg32):\n",
    "    # remove '.', base32 decode\n",
    "    msg32 = msg32.replace('.', '').upper()\n",
    "    msg = dec_b32(msg32)\n",
    "    \n",
    "    # msg must be a integer multiple of 16 bytes long, \n",
    "    # clip the eventual \\x00 at the end\n",
    "    msg = msg[:len(msg) - (len(msg) % 16)]\n",
    "    \n",
    "    # AES decrypt\n",
    "    pl = cipherd.decrypt(msg)\n",
    "    \n",
    "    # remove padding\n",
    "    pl = pl[: len(pl) - pl[-1]]\n",
    "    \n",
    "    # check crc\n",
    "    crc_r = pl[-2:]\n",
    "    pl = pl[:-2]\n",
    "    if crc.getCrc(pl) != crc_r:\n",
    "        raise RuntimeError(\"CRC ERR\")\n",
    "    return pl\n",
    "\n",
    "txt = b'12345abcABC'\n",
    "for i in range(4):\n",
    "    c_txt = dns_enc(txt)\n",
    "    print(c_txt)"
   ]
  },
  {
   "cell_type": "markdown",
   "metadata": {},
   "source": [
    "# Stress test encrypt and decrypt"
   ]
  },
  {
   "cell_type": "code",
   "execution_count": null,
   "metadata": {},
   "outputs": [],
   "source": [
    "i = 0\n",
    "while(True):\n",
    "    pl = bytes([randint(0, 255) for x in range(randint(0, 255))])\n",
    "    c_txt = dns_enc(pl)\n",
    "    d_pl = dns_dec(c_txt)\n",
    "    if d_pl != pl:\n",
    "        print('error')\n",
    "        break\n",
    "    i += 1"
   ]
  },
  {
   "cell_type": "code",
   "execution_count": 700,
   "metadata": {},
   "outputs": [
    {
     "name": "stdout",
     "output_type": "stream",
     "text": [
      "1160304\n"
     ]
    }
   ],
   "source": [
    "print(i)"
   ]
  },
  {
   "cell_type": "markdown",
   "metadata": {},
   "source": [
    "# Try the class"
   ]
  },
  {
   "cell_type": "code",
   "execution_count": 2,
   "metadata": {},
   "outputs": [],
   "source": [
    "from dns_coder import DnsCoder\n",
    "dc = DnsCoder(SECRET_KEY, CODING_TABLE)"
   ]
  },
  {
   "cell_type": "code",
   "execution_count": 15,
   "metadata": {},
   "outputs": [
    {
     "name": "stdout",
     "output_type": "stream",
     "text": [
      "c6mzliuwsnlswbhrxbn44cdqze\n"
     ]
    },
    {
     "data": {
      "text/plain": [
       "b'12345abcABC'"
      ]
     },
     "execution_count": 15,
     "metadata": {},
     "output_type": "execute_result"
    }
   ],
   "source": [
    "txt = b'12345abcABC'\n",
    "c_txt = dc.dns_enc(txt)\n",
    "print(c_txt)\n",
    "dc.dns_dec(c_txt)"
   ]
  },
  {
   "cell_type": "code",
   "execution_count": 11,
   "metadata": {},
   "outputs": [
    {
     "name": "stdout",
     "output_type": "stream",
     "text": [
      "tmbqdetkqf-jb3b-rr-vu727uvd6vekefuerpk8i71ibprztgckt..\n"
     ]
    },
    {
     "ename": "RuntimeError",
     "evalue": "CRC ERR",
     "output_type": "error",
     "traceback": [
      "\u001b[0;31m---------------------------------------------------------------------------\u001b[0m",
      "\u001b[0;31mRuntimeError\u001b[0m                              Traceback (most recent call last)",
      "\u001b[0;32m<ipython-input-11-dcd3c2355edc>\u001b[0m in \u001b[0;36m<module>\u001b[0;34m\u001b[0m\n\u001b[1;32m      1\u001b[0m \u001b[0mtest_\u001b[0m \u001b[0;34m=\u001b[0m \u001b[0mtest\u001b[0m\u001b[0;34m.\u001b[0m\u001b[0mreplace\u001b[0m\u001b[0;34m(\u001b[0m\u001b[0mdpf\u001b[0m\u001b[0;34m,\u001b[0m \u001b[0;34m''\u001b[0m\u001b[0;34m)\u001b[0m\u001b[0;34m\u001b[0m\u001b[0;34m\u001b[0m\u001b[0m\n\u001b[1;32m      2\u001b[0m \u001b[0mprint\u001b[0m\u001b[0;34m(\u001b[0m\u001b[0mtest_\u001b[0m\u001b[0;34m)\u001b[0m\u001b[0;34m\u001b[0m\u001b[0;34m\u001b[0m\u001b[0m\n\u001b[0;32m----> 3\u001b[0;31m \u001b[0mdnsc\u001b[0m\u001b[0;34m.\u001b[0m\u001b[0mdns_dec\u001b[0m\u001b[0;34m(\u001b[0m\u001b[0mtest_\u001b[0m\u001b[0;34m)\u001b[0m\u001b[0;34m\u001b[0m\u001b[0;34m\u001b[0m\u001b[0m\n\u001b[0m",
      "\u001b[0;32m~/pio_wsp/wifiTrack8266/dnsd/dns_coder.py\u001b[0m in \u001b[0;36mdns_dec\u001b[0;34m(self, msg32)\u001b[0m\n\u001b[1;32m    105\u001b[0m         \u001b[0mpl\u001b[0m \u001b[0;34m=\u001b[0m \u001b[0mpl\u001b[0m\u001b[0;34m[\u001b[0m\u001b[0;34m:\u001b[0m\u001b[0;34m-\u001b[0m\u001b[0;36m2\u001b[0m\u001b[0;34m]\u001b[0m\u001b[0;34m\u001b[0m\u001b[0;34m\u001b[0m\u001b[0m\n\u001b[1;32m    106\u001b[0m         \u001b[0;32mif\u001b[0m \u001b[0mself\u001b[0m\u001b[0;34m.\u001b[0m\u001b[0mcrc\u001b[0m\u001b[0;34m.\u001b[0m\u001b[0mgetCrc\u001b[0m\u001b[0;34m(\u001b[0m\u001b[0mpl\u001b[0m\u001b[0;34m)\u001b[0m \u001b[0;34m!=\u001b[0m \u001b[0mcrc_r\u001b[0m\u001b[0;34m:\u001b[0m\u001b[0;34m\u001b[0m\u001b[0;34m\u001b[0m\u001b[0m\n\u001b[0;32m--> 107\u001b[0;31m             \u001b[0;32mraise\u001b[0m \u001b[0mRuntimeError\u001b[0m\u001b[0;34m(\u001b[0m\u001b[0;34m\"CRC ERR\"\u001b[0m\u001b[0;34m)\u001b[0m\u001b[0;34m\u001b[0m\u001b[0;34m\u001b[0m\u001b[0m\n\u001b[0m\u001b[1;32m    108\u001b[0m         \u001b[0;32mreturn\u001b[0m \u001b[0mpl\u001b[0m\u001b[0;34m\u001b[0m\u001b[0;34m\u001b[0m\u001b[0m\n",
      "\u001b[0;31mRuntimeError\u001b[0m: CRC ERR"
     ]
    }
   ],
   "source": [
    "test_ = test.replace(dpf, '')\n",
    "print(test_)\n",
    "dnsc.dns_dec(test_)"
   ]
  },
  {
   "cell_type": "code",
   "execution_count": null,
   "metadata": {},
   "outputs": [],
   "source": []
  }
 ],
 "metadata": {
  "kernelspec": {
   "display_name": "Python 3",
   "language": "python",
   "name": "python3"
  },
  "language_info": {
   "codemirror_mode": {
    "name": "ipython",
    "version": 3
   },
   "file_extension": ".py",
   "mimetype": "text/x-python",
   "name": "python",
   "nbconvert_exporter": "python",
   "pygments_lexer": "ipython3",
   "version": "3.7.3"
  }
 },
 "nbformat": 4,
 "nbformat_minor": 2
}
